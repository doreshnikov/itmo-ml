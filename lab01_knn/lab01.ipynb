{
 "cells": [
  {
   "cell_type": "markdown",
   "metadata": {
    "pycharm": {
     "name": "#%% md\n"
    }
   },
   "source": [
    "## Посмотрим на данные\n",
    "\n",
    "Проверим, какие столбцы в них присутствуют, сколько классов и сколько всего объектов"
   ]
  },
  {
   "cell_type": "code",
   "execution_count": 23,
   "metadata": {
    "pycharm": {
     "name": "#%%\n"
    }
   },
   "outputs": [],
   "source": [
    "import os\n",
    "if os.getcwd().endswith('lab01_knn'):\n",
    "    os.chdir('..')"
   ]
  },
  {
   "cell_type": "code",
   "execution_count": 24,
   "metadata": {
    "pycharm": {
     "name": "#%%\n"
    }
   },
   "outputs": [],
   "source": [
    "from lab01_knn.knn import KNNClassifier, KNNRegressionClassifier\n",
    "from lab01_knn.common.metrics import confusion_matrix, micro_f1_score, macro_f1_score\n",
    "from lab01_knn.common.data import k_fold_validation, one_out_validation, normalize, one_hot_encode"
   ]
  },
  {
   "cell_type": "code",
   "execution_count": 25,
   "metadata": {
    "pycharm": {
     "name": "#%%\n"
    }
   },
   "outputs": [],
   "source": [
    "import pandas as pd\n",
    "import numpy as np"
   ]
  },
  {
   "cell_type": "code",
   "execution_count": 26,
   "outputs": [
    {
     "data": {
      "text/plain": "        V1     V2      V3     V4     V5     V6     V7  Class\n0    15.26  14.84  0.8710  5.763  3.312  2.221  5.220      1\n1    14.88  14.57  0.8811  5.554  3.333  1.018  4.956      1\n2    14.29  14.09  0.9050  5.291  3.337  2.699  4.825      1\n3    13.84  13.94  0.8955  5.324  3.379  2.259  4.805      1\n4    16.14  14.99  0.9034  5.658  3.562  1.355  5.175      1\n..     ...    ...     ...    ...    ...    ...    ...    ...\n205  12.19  13.20  0.8783  5.137  2.981  3.631  4.870      3\n206  11.23  12.88  0.8511  5.140  2.795  4.325  5.003      3\n207  13.20  13.66  0.8883  5.236  3.232  8.315  5.056      3\n208  11.84  13.21  0.8521  5.175  2.836  3.598  5.044      3\n209  12.30  13.34  0.8684  5.243  2.974  5.637  5.063      3\n\n[210 rows x 8 columns]",
      "text/html": "<div>\n<style scoped>\n    .dataframe tbody tr th:only-of-type {\n        vertical-align: middle;\n    }\n\n    .dataframe tbody tr th {\n        vertical-align: top;\n    }\n\n    .dataframe thead th {\n        text-align: right;\n    }\n</style>\n<table border=\"1\" class=\"dataframe\">\n  <thead>\n    <tr style=\"text-align: right;\">\n      <th></th>\n      <th>V1</th>\n      <th>V2</th>\n      <th>V3</th>\n      <th>V4</th>\n      <th>V5</th>\n      <th>V6</th>\n      <th>V7</th>\n      <th>Class</th>\n    </tr>\n  </thead>\n  <tbody>\n    <tr>\n      <th>0</th>\n      <td>15.26</td>\n      <td>14.84</td>\n      <td>0.8710</td>\n      <td>5.763</td>\n      <td>3.312</td>\n      <td>2.221</td>\n      <td>5.220</td>\n      <td>1</td>\n    </tr>\n    <tr>\n      <th>1</th>\n      <td>14.88</td>\n      <td>14.57</td>\n      <td>0.8811</td>\n      <td>5.554</td>\n      <td>3.333</td>\n      <td>1.018</td>\n      <td>4.956</td>\n      <td>1</td>\n    </tr>\n    <tr>\n      <th>2</th>\n      <td>14.29</td>\n      <td>14.09</td>\n      <td>0.9050</td>\n      <td>5.291</td>\n      <td>3.337</td>\n      <td>2.699</td>\n      <td>4.825</td>\n      <td>1</td>\n    </tr>\n    <tr>\n      <th>3</th>\n      <td>13.84</td>\n      <td>13.94</td>\n      <td>0.8955</td>\n      <td>5.324</td>\n      <td>3.379</td>\n      <td>2.259</td>\n      <td>4.805</td>\n      <td>1</td>\n    </tr>\n    <tr>\n      <th>4</th>\n      <td>16.14</td>\n      <td>14.99</td>\n      <td>0.9034</td>\n      <td>5.658</td>\n      <td>3.562</td>\n      <td>1.355</td>\n      <td>5.175</td>\n      <td>1</td>\n    </tr>\n    <tr>\n      <th>...</th>\n      <td>...</td>\n      <td>...</td>\n      <td>...</td>\n      <td>...</td>\n      <td>...</td>\n      <td>...</td>\n      <td>...</td>\n      <td>...</td>\n    </tr>\n    <tr>\n      <th>205</th>\n      <td>12.19</td>\n      <td>13.20</td>\n      <td>0.8783</td>\n      <td>5.137</td>\n      <td>2.981</td>\n      <td>3.631</td>\n      <td>4.870</td>\n      <td>3</td>\n    </tr>\n    <tr>\n      <th>206</th>\n      <td>11.23</td>\n      <td>12.88</td>\n      <td>0.8511</td>\n      <td>5.140</td>\n      <td>2.795</td>\n      <td>4.325</td>\n      <td>5.003</td>\n      <td>3</td>\n    </tr>\n    <tr>\n      <th>207</th>\n      <td>13.20</td>\n      <td>13.66</td>\n      <td>0.8883</td>\n      <td>5.236</td>\n      <td>3.232</td>\n      <td>8.315</td>\n      <td>5.056</td>\n      <td>3</td>\n    </tr>\n    <tr>\n      <th>208</th>\n      <td>11.84</td>\n      <td>13.21</td>\n      <td>0.8521</td>\n      <td>5.175</td>\n      <td>2.836</td>\n      <td>3.598</td>\n      <td>5.044</td>\n      <td>3</td>\n    </tr>\n    <tr>\n      <th>209</th>\n      <td>12.30</td>\n      <td>13.34</td>\n      <td>0.8684</td>\n      <td>5.243</td>\n      <td>2.974</td>\n      <td>5.637</td>\n      <td>5.063</td>\n      <td>3</td>\n    </tr>\n  </tbody>\n</table>\n<p>210 rows × 8 columns</p>\n</div>"
     },
     "execution_count": 26,
     "metadata": {},
     "output_type": "execute_result"
    }
   ],
   "source": [
    "data = pd.read_csv('lab01_knn/resources/heart-h.csv')\n",
    "data"
   ],
   "metadata": {
    "collapsed": false,
    "pycharm": {
     "name": "#%%\n"
    }
   }
  },
  {
   "cell_type": "code",
   "execution_count": 27,
   "metadata": {
    "pycharm": {
     "name": "#%%\n"
    }
   },
   "outputs": [
    {
     "data": {
      "text/plain": "array([1, 2, 3], dtype=int64)"
     },
     "execution_count": 27,
     "metadata": {},
     "output_type": "execute_result"
    }
   ],
   "source": [
    "data['Class'].unique()"
   ]
  },
  {
   "cell_type": "markdown",
   "metadata": {
    "pycharm": {
     "name": "#%% md\n"
    }
   },
   "source": [
    "## Нормализуем столбцы (для начала можно все)\n",
    "\n",
    "Параллельно заменим класс 5 на класс 0, чтобы не сбивать нумерацию"
   ]
  },
  {
   "cell_type": "code",
   "execution_count": 29,
   "outputs": [
    {
     "name": "stdout",
     "output_type": "stream",
     "text": [
      "1: 0.8963163633751868/0.9032384463545415\n",
      "2: 0.8963163633751868/0.9032384463545415\n",
      "3: 0.8786112906701142/0.8855611933540375\n",
      "4: 0.8866391941391942/0.8920747014834418\n",
      "5: 0.8931684981684981/0.8982024390372667\n",
      "6: 0.8916544566544566/0.8965004633382904\n",
      "7: 0.8924297924297925/0.8962011245233332\n",
      "8: 0.9058974358974361/0.9091493863781063\n",
      "9: 0.9107722832722832/0.9145835510152125\n",
      "10: 0.9104029304029304/0.9152442733008239\n",
      "11: 0.9059525605113838/0.9118107562246021\n",
      "12: 0.9055862601450837/0.9114747661948861\n",
      "13: 0.9052871148459385/0.9101364090441704\n",
      "14: 0.900848775407599/0.9070517870388108\n",
      "15: 0.9056654456654456/0.9108212941447487\n",
      "16: 0.9065201465201467/0.9118007409822191\n",
      "17: 0.9063705738705738/0.9114864867004885\n",
      "18: 0.9017826617826618/0.9077260443398089\n",
      "19: 0.9111324786324788/0.9162484549316078\n"
     ]
    }
   ],
   "source": [
    "data.at[data['Class'] == 5, 'Class'] = 0\n",
    "data = normalize(data, columns=list(map(lambda n: f'V{n}', range(1, 14))))\n",
    "data"
   ],
   "metadata": {
    "collapsed": false,
    "pycharm": {
     "name": "#%%\n"
    }
   }
  },
  {
   "cell_type": "code",
   "execution_count": null,
   "outputs": [],
   "source": [
    "X = data.drop('Class', axis=1).values\n",
    "y = data['Class'].values"
   ],
   "metadata": {
    "collapsed": false,
    "pycharm": {
     "name": "#%%\n"
    }
   }
  },
  {
   "cell_type": "markdown",
   "source": [
    "## Проверим обычный kNN-классификатор на некоторых k"
   ],
   "metadata": {
    "collapsed": false,
    "pycharm": {
     "name": "#%% md\n"
    }
   }
  },
  {
   "cell_type": "code",
   "execution_count": null,
   "outputs": [],
   "source": [
    "for k in [1, 2, 4, 8, 16, 32, 64, 128]:\n",
    "    scores_micro = k_fold_validation(X, y, KNNClassifier(k=k), lambda y, ypred: micro_f1_score(confusion_matrix(y, ypred, classes=5)))\n",
    "    scores_macro = k_fold_validation(X, y, KNNClassifier(k=k), lambda y, ypred: macro_f1_score(confusion_matrix(y, ypred, classes=5)))\n",
    "    print(f'{k}: {np.mean(scores_micro)}/{np.mean(scores_macro)}')"
   ],
   "metadata": {
    "collapsed": false,
    "pycharm": {
     "name": "#%%\n"
    }
   }
  },
  {
   "cell_type": "markdown",
   "source": [
    "# Теперь попробуем провести регрессию\n",
    "\n",
    "Для нормализации будем брать только не-категориальные столбцы"
   ],
   "metadata": {
    "collapsed": false,
    "pycharm": {
     "name": "#%% md\n"
    }
   }
  },
  {
   "cell_type": "code",
   "execution_count": null,
   "outputs": [],
   "source": [
    "params = {\n",
    "    'distance': ['euclidean', 'manhattan', 'chebyshev'],\n",
    "    'kernel': ['uniform', 'triangular', 'epanechnikov', 'quartic', 'triweight', 'tricube', 'gaussian', 'cosine', 'logistic', 'sigmoid'],\n",
    "    'window': ['fixed', 'variable'],\n",
    "    'k': [1, 5, 10, 25, 50, 100, 150]\n",
    "}\n",
    "\n",
    "data = pd.read_csv('lab01_knn/resources/heart-h.csv')\n",
    "data.at[data['Class'] == 5, 'Class'] = 0\n",
    "data = normalize(data, columns=['V1', 'V4', 'V5', 'V8', 'V10'])"
   ],
   "metadata": {
    "collapsed": false,
    "pycharm": {
     "name": "#%%\n"
    }
   }
  },
  {
   "cell_type": "code",
   "execution_count": null,
   "outputs": [],
   "source": [
    "list(map(pd.Series.unique, [data['V11'], data['V12'], data['V13']]))"
   ],
   "metadata": {
    "collapsed": false,
    "pycharm": {
     "name": "#%%\n"
    }
   }
  },
  {
   "cell_type": "markdown",
   "source": [
    "У данных нет описания, но эти признаки выглядят больше категориальными, чем численными, хотя странно, что их тогда так записали... Можно пока попробовать оставить как есть и нормализовать"
   ],
   "metadata": {
    "collapsed": false
   }
  },
  {
   "cell_type": "code",
   "execution_count": null,
   "outputs": [],
   "source": [
    "data = normalize(data, columns=['V11', 'V12', 'V13'])\n",
    "data"
   ],
   "metadata": {
    "collapsed": false,
    "pycharm": {
     "name": "#%%\n"
    }
   }
  },
  {
   "cell_type": "code",
   "execution_count": null,
   "outputs": [],
   "source": [
    "X = data.drop('Class', axis=1).values\n",
    "y = data['Class'].values"
   ],
   "metadata": {
    "collapsed": false,
    "pycharm": {
     "name": "#%%\n"
    }
   }
  },
  {
   "cell_type": "code",
   "execution_count": null,
   "outputs": [],
   "source": [
    "best_result = None\n",
    "best_score = 0\n",
    "\n",
    "def scoring(y_true, y_pred):\n",
    "    cm = confusion_matrix(y_true, y_pred, classes=5)\n",
    "    return (micro_f1_score(cm) + macro_f1_score(cm)) / 2\n",
    "\n",
    "cnt = 1\n",
    "for value in params.values():\n",
    "    cnt *= len(value)\n",
    "print(f'Options: {cnt}')"
   ],
   "metadata": {
    "collapsed": false,
    "pycharm": {
     "name": "#%%\n"
    }
   }
  },
  {
   "cell_type": "code",
   "execution_count": null,
   "outputs": [],
   "source": [
    "finished = 0\n",
    "\n",
    "for distance in params['distance']:\n",
    "    for kernel in params['kernel']:\n",
    "        for window in params['window']:\n",
    "            for k in params['k']:\n",
    "                model = KNNRegressionClassifier(k=k, distance=distance, kernel=kernel, window=window, h=k)\n",
    "                score = one_out_validation(X, y, model, scoring)\n",
    "                if score > best_score:\n",
    "                    best_result = {'distance': distance, 'kernel': kernel, 'window': window, 'k': k}\n",
    "                    best_score = score\n",
    "                finished += 1\n",
    "                if finished % 42 == 0:\n",
    "                    print(f'{finished // 42 * 10}%')\n",
    "\n",
    "print(best_result)\n",
    "print(best_score)"
   ],
   "metadata": {
    "collapsed": false,
    "pycharm": {
     "name": "#%%\n"
    }
   }
  },
  {
   "cell_type": "markdown",
   "source": [
    "Для полученных параметров можно построить графики в зависимости от k, но лучше это сделать позже, чтобы сравнить с OHE и без него."
   ],
   "metadata": {
    "collapsed": false
   }
  },
  {
   "cell_type": "markdown",
   "source": [
    "## Теперь можно попробовать добавить OneHotEncoding\n",
    "\n",
    "Параллельно можно так же закодировать другие категориальные признаки"
   ],
   "metadata": {
    "collapsed": false
   }
  },
  {
   "cell_type": "code",
   "execution_count": null,
   "outputs": [],
   "source": [
    "data1 = data.copy(deep=True)\n",
    "\n",
    "data = pd.read_csv('lab01_knn/resources/heart-h.csv')\n",
    "data.at[data['Class'] == 5, 'Class'] = 0\n",
    "data = normalize(data, columns=['V1', 'V4', 'V5', 'V7', 'V8', 'V10'])\n",
    "\n",
    "data2 = one_hot_encode(data, columns=['V2', 'V3', 'V4', 'V6', 'V9', 'V11', 'V12', 'V13', 'Class'])"
   ],
   "metadata": {
    "collapsed": false,
    "pycharm": {
     "name": "#%%\n"
    }
   }
  },
  {
   "cell_type": "code",
   "execution_count": null,
   "outputs": [],
   "source": [
    "data2"
   ],
   "metadata": {
    "collapsed": false,
    "pycharm": {
     "name": "#%%\n"
    }
   }
  },
  {
   "cell_type": "code",
   "execution_count": null,
   "outputs": [],
   "source": [
    "classes = ['Class@0', 'Class@1', 'Class@2', 'Class@3', 'Class@4']\n",
    "X2 = data2.drop(columns=classes).values\n",
    "y2 = data2.loc[:, classes].values"
   ],
   "metadata": {
    "collapsed": false,
    "pycharm": {
     "name": "#%%\n"
    }
   }
  },
  {
   "cell_type": "code",
   "execution_count": null,
   "outputs": [],
   "source": [
    "def custom_eval(model):\n",
    "    predictions = np.zeros(y2.shape, dtype=float)\n",
    "    for i in range(X2.shape[0]):\n",
    "        X_train = np.vstack((X2[:i], X2[i + 1:]))\n",
    "        for j in range(5):\n",
    "            y_train = np.hstack((y2[:i, j], y2[i + 1:, j]))\n",
    "            \n",
    "            y_pred = model.clone_unfit().fit(X_train, y_train).predict(np.asarray([X2[i]]))\n",
    "            predictions[i][j] = y_pred[0]\n",
    "    return np.argmax(predictions, axis=1)\n",
    "\n",
    "# test\n",
    "print(scoring(data['Class'].values, custom_eval(KNNRegressionClassifier(k=150, kernel='gaussian', window='variable'))))"
   ],
   "metadata": {
    "collapsed": false,
    "pycharm": {
     "name": "#%%\n"
    }
   }
  },
  {
   "cell_type": "markdown",
   "source": [
    "Имеет смысл уменьшить перебор, потому что времени будет уходить в 5 раз дольше.."
   ],
   "metadata": {
    "collapsed": false
   }
  },
  {
   "cell_type": "code",
   "execution_count": null,
   "outputs": [],
   "source": [
    "params = {\n",
    "    'distance': ['euclidean', 'manhattan'],\n",
    "    'kernel': ['triangular', 'epanechnikov', 'triweight', 'gaussian', 'logistic', 'sigmoid'],\n",
    "    'window': ['variable'],\n",
    "    'k': [1, 2, 5, 8, 15, 25, 50]\n",
    "}\n",
    "\n",
    "cnt = 1\n",
    "for value in params.values():\n",
    "    cnt *= len(value)\n",
    "print(f'Options: {cnt * 5}')"
   ],
   "metadata": {
    "collapsed": false,
    "pycharm": {
     "name": "#%%\n"
    }
   }
  },
  {
   "cell_type": "code",
   "execution_count": null,
   "outputs": [],
   "source": [
    "best_result2 = None\n",
    "best_score2 = 0\n",
    "finished2 = 0\n",
    "\n",
    "for distance in params['distance']:\n",
    "    for kernel in params['kernel']:\n",
    "        for window in params['window']:\n",
    "            for k in params['k']:\n",
    "                model = KNNRegressionClassifier(k=k, distance=distance, kernel=kernel, window=window, h=k)\n",
    "                score = scoring(data['Class'].values, custom_eval(model))\n",
    "                if score > best_score2:\n",
    "                    best_result2 = {'distance': distance, 'kernel': kernel, 'window': window, 'k': k}\n",
    "                    best_score2 = score\n",
    "                finished2 += 5\n",
    "                if finished2 % 42 < 5:\n",
    "                    print(f'{finished2 // 42 * 10}%')\n",
    "\n",
    "print(best_result2)\n",
    "print(best_score2)"
   ],
   "metadata": {
    "collapsed": false,
    "pycharm": {
     "name": "#%%\n"
    }
   }
  },
  {
   "cell_type": "markdown",
   "source": [
    "Мы видим, что в обоих случаях лучший вариант получается при gaussian ядре, так что можно попробовать построить графики зависимости f1_score от k в двух случаях:"
   ],
   "metadata": {
    "collapsed": false
   }
  },
  {
   "cell_type": "code",
   "execution_count": null,
   "outputs": [],
   "source": [
    "import matplotlib\n",
    "import matplotlib.pyplot as plt\n",
    "%matplotlib inline\n",
    "\n",
    "ks = [1, 2, 5, 8, 15, 25, 40, 65, 100, 140, 185]\n",
    "\n",
    "for it, distance in enumerate(['euclidean', 'manhattan']):\n",
    "    scores1, scores2 = [], []\n",
    "    for k in ks:\n",
    "        model = KNNRegressionClassifier(k=k, distance=distance, kernel='gaussian', window='variable', h=k)\n",
    "        scores1.append(one_out_validation(X, y, model, scoring))\n",
    "        scores2.append(scoring(data['Class'].values, custom_eval(model)))\n",
    "    plt.subplot(121 + it)\n",
    "    plt.plot(ks, scores1)\n",
    "    plt.plot(ks, scores2, color='red')"
   ],
   "metadata": {
    "collapsed": false,
    "pycharm": {
     "name": "#%%\n"
    }
   }
  },
  {
   "cell_type": "markdown",
   "source": [
    "## Наблюдения\n",
    "\n",
    "Почему-то с OHE результаты получаются не лучше, чем без него. Но, видимо, это специфика этого датасета (как минимум отчасти), потому что оптимальные результаты, полученные каждым методом, дают примерно одинаковые оценки качества :("
   ],
   "metadata": {
    "collapsed": false
   }
  },
  {
   "cell_type": "code",
   "execution_count": null,
   "outputs": [],
   "source": [],
   "metadata": {
    "collapsed": false,
    "pycharm": {
     "name": "#%%\n"
    }
   }
  }
 ],
 "metadata": {
  "kernelspec": {
   "display_name": "Python 3",
   "language": "python",
   "name": "python3"
  },
  "language_info": {
   "codemirror_mode": {
    "name": "ipython",
    "version": 3
   },
   "file_extension": ".py",
   "mimetype": "text/x-python",
   "name": "python",
   "nbconvert_exporter": "python",
   "pygments_lexer": "ipython3",
   "version": "3.8.4"
  }
 },
 "nbformat": 4,
 "nbformat_minor": 1
}